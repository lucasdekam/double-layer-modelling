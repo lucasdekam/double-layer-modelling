{
 "cells": [
  {
   "cell_type": "code",
   "execution_count": null,
   "metadata": {},
   "outputs": [],
   "source": [
    "import pandas as pd\n",
    "import numpy as np\n",
    "from scipy.interpolate import interp1d\n",
    "\n",
    "def process(edl_constructor, dataframe: pd.DataFrame, pzc_she: float):\n",
    "    \"\"\"\n",
    "    Process Monteiro data and calculate phi0-phi'\n",
    "    \"\"\"\n",
    "    dataframe[\"E_SHE\"] = dataframe[\"E vs. RHE\"] - dataframe[\"pH\"] * 59e-3\n",
    "    dataframe[\"phi0\"] = dataframe[\"E_SHE\"] - pzc_she\n",
    "\n",
    "    # Find unique log concentration values\n",
    "    unique_logc_values = dataframe.drop_duplicates(subset=\"log c\")[\"log c\"].values\n",
    "\n",
    "    # One computation for each concentration value\n",
    "    processed_dfs = []\n",
    "\n",
    "    for logc in unique_logc_values:\n",
    "        df_select_logc = dataframe[dataframe[\"log c\"] == logc].copy()\n",
    "        model = edl_constructor(10**logc)\n",
    "\n",
    "        potentials_vs_pzc = np.linspace(np.min(df_select_logc[\"phi0\"]), 0, 50)\n",
    "        sweep = model.potential_sweep(potentials_vs_pzc, tol=1e-4)\n",
    "\n",
    "        # Interpolate the result for the phi0 values already in the dataframe\n",
    "        interpolator = interp1d(potentials_vs_pzc, sweep[\"phi_rp\"])\n",
    "        df_select_logc[\"phi_rp\"] = interpolator(df_select_logc[\"phi0\"])\n",
    "        processed_dfs.append(df_select_logc)\n",
    "\n",
    "    return pd.concat(processed_dfs)"
   ]
  },
  {
   "cell_type": "code",
   "execution_count": null,
   "metadata": {},
   "outputs": [],
   "source": [
    "# for species in species_dict.keys():\n",
    "#     df_list = []\n",
    "#     for ph in [11, 13]:\n",
    "#         df = pd.read_csv(f\"data/{species}_ph_{ph}_full.csv\", names=['log c', 'log j', 'E vs. RHE'], header=1)\n",
    "#         df['pH'] = ph\n",
    "#         df_list.append(df)\n",
    "#     new_df = pd.concat(df_list, ignore_index=True)\n",
    "#     new_df.to_csv(f'data/{species}.csv', index=False)"
   ]
  },
  {
   "cell_type": "code",
   "execution_count": null,
   "metadata": {},
   "outputs": [],
   "source": [
    "from edl.models import ExplicitStern as model1\n",
    "from edl.models import DoubleLayerModel as model2\n",
    "from edl.constants import AU_PZC_SHE_V as PZC\n",
    "species_dict = {'Li': (7, 'black'), 'Na': (6, 'blue'), 'K': (5, 'red')}\n",
    "ph_fillstyle = {11: 'none', 13: 'full'}\n",
    "x2_dict = {'Cs': 3.5e-10, 'K': 4.1e-10, 'Na': 5.2e-10, 'Li': 5.8e-10}"
   ]
  },
  {
   "cell_type": "code",
   "execution_count": null,
   "metadata": {},
   "outputs": [],
   "source": [
    "import matplotlib.pyplot as plt\n",
    "%matplotlib widget\n",
    "\n",
    "fig, ax = plt.subplots()\n",
    "\n",
    "for species, properties in species_dict.items():\n",
    "    df = pd.read_csv(f\"data/{species}.csv\")\n",
    "    # df = process(lambda c: model1(c, properties[0], 2, x2_dict[species]), df, pzc_she=PZC)\n",
    "    df = process(lambda c: model2(c, properties[0], 2), df, pzc_she=PZC)\n",
    "    for j, row in df.iterrows():\n",
    "        ax.plot(\n",
    "            row['phi0'] - row['phi_rp'],\n",
    "            row['log j'],\n",
    "            marker=\"o\",\n",
    "            fillstyle=ph_fillstyle[row['pH']],\n",
    "            markersize=5,\n",
    "            markeredgewidth=0.5,\n",
    "            linestyle=\"None\",\n",
    "            color=species_dict[species][1])\n",
    "\n",
    "plt.show()"
   ]
  },
  {
   "cell_type": "code",
   "execution_count": null,
   "metadata": {},
   "outputs": [],
   "source": []
  }
 ],
 "metadata": {
  "kernelspec": {
   "display_name": "Python 3",
   "language": "python",
   "name": "python3"
  },
  "language_info": {
   "codemirror_mode": {
    "name": "ipython",
    "version": 3
   },
   "file_extension": ".py",
   "mimetype": "text/x-python",
   "name": "python",
   "nbconvert_exporter": "python",
   "pygments_lexer": "ipython3",
   "version": "3.11.2"
  }
 },
 "nbformat": 4,
 "nbformat_minor": 2
}
