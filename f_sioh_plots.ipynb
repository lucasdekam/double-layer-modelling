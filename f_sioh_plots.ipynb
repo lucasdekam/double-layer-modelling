{
 "cells": [
  {
   "cell_type": "code",
   "execution_count": null,
   "metadata": {},
   "outputs": [],
   "source": [
    "\"\"\"\n",
    "Making figures for fraction SiOH plots\n",
    "\"\"\"\n",
    "import numpy as np\n",
    "\n",
    "import complete_edl as edl\n",
    "import constants as C\n",
    "\n",
    "%matplotlib widget\n",
    "\n",
    "DEFAULT_GAMMA = 4\n",
    "DEFAULT_CONC = 1e-1  # 100 mM\n",
    "GAMMA_RANGE = [3, 4, 5, 6]\n",
    "CONC_RANGE = [10e-3, 100e-3, 1000e-3]\n",
    "PH_RANGE = np.linspace(2, 13, 200)\n",
    "\n",
    "\n",
    "def calculate_f_sioh(ph_sweep_sol):\n",
    "    \"\"\"\n",
    "    Calculate f_SiOH\n",
    "    \"\"\"\n",
    "    frac_sioh = (C.N_SITES_SILICA + ph_sweep_sol[\"charge\"] / C.E_0) / C.N_SITES_SILICA\n",
    "    return frac_sioh\n",
    "\n",
    "\n",
    "ph_range = np.linspace(2, 13, 200)\n",
    "frac_sioh_gamm = np.zeros((len(GAMMA_RANGE), len(PH_RANGE)))\n",
    "\n",
    "for i, gamma in enumerate(GAMMA_RANGE):\n",
    "    silica = edl.Aqueous(DEFAULT_CONC, gamma, DEFAULT_GAMMA, DEFAULT_GAMMA, 3)\n",
    "    silica_sol = silica.ph_sweep(ph_range, tol=1e-2)\n",
    "    frac_sioh_gamm[i, :] = calculate_f_sioh(silica_sol)\n",
    "\n",
    "frac_sioh_conc = np.zeros((len(CONC_RANGE), len(ph_range)))\n",
    "for i, conc in enumerate(CONC_RANGE):\n",
    "    silica = edl.Aqueous(conc, DEFAULT_GAMMA, DEFAULT_GAMMA, DEFAULT_GAMMA, 3)\n",
    "    silica_sol = silica.ph_sweep(ph_range, tol=1e-2)\n",
    "    frac_sioh_conc[i, :] = (\n",
    "        C.N_SITES_SILICA + silica_sol[\"charge\"] / C.E_0\n",
    "    ) / C.N_SITES_SILICA\n",
    "\n"
   ]
  },
  {
   "cell_type": "code",
   "execution_count": null,
   "metadata": {},
   "outputs": [],
   "source": [
    "import pandas as pd\n",
    "\n",
    "gamma_df = pd.DataFrame(\n",
    "    data=frac_sioh_gamm.T, \n",
    "    columns=[f'gamma = {gamma}' for gamma in GAMMA_RANGE], \n",
    "    index=ph_range\n",
    ")\n",
    "\n",
    "conc_df = pd.DataFrame(\n",
    "    data=frac_sioh_conc.T, \n",
    "    columns=[f'conc = {conc*1e3:.0f} mM' for conc in CONC_RANGE], \n",
    "    index=ph_range\n",
    ")\n",
    "\n",
    "all_df = gamma_df.join(conc_df, how='left')\n",
    "\n",
    "all_df.index.name = 'pH'\n",
    "\n",
    "all_df.to_csv('f_sioh_data.csv')"
   ]
  }
 ],
 "metadata": {
  "kernelspec": {
   "display_name": "Python 3",
   "language": "python",
   "name": "python3"
  },
  "language_info": {
   "codemirror_mode": {
    "name": "ipython",
    "version": 3
   },
   "file_extension": ".py",
   "mimetype": "text/x-python",
   "name": "python",
   "nbconvert_exporter": "python",
   "pygments_lexer": "ipython3",
   "version": "3.9.6"
  }
 },
 "nbformat": 4,
 "nbformat_minor": 2
}
