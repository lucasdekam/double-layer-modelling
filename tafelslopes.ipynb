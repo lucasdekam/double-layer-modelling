{
 "cells": [
  {
   "cell_type": "code",
   "execution_count": null,
   "metadata": {},
   "outputs": [],
   "source": [
    "import numpy as np\n",
    "import matplotlib.pyplot as plt\n",
    "import edl\n",
    "import constants as C\n",
    "\n",
    "%matplotlib widget"
   ]
  },
  {
   "cell_type": "code",
   "execution_count": null,
   "metadata": {},
   "outputs": [],
   "source": [
    "potentials = np.linspace(-2.5, 0, 100)\n",
    "aq = edl.Aqueous(1e-2, 8, 8, 8, 8)\n",
    "aq_sol = aq.potential_sweep(potentials)\n",
    "\n",
    "adsorption = np.exp(-0.5*C.E_0*C.BETA * C.D_ADSORBATE_LAYER * aq_sol['efield'].values) * aq_sol['solvent'].values\n",
    "adsorption_log = np.log10(adsorption) \n",
    "adsorption_tafel = np.gradient(potentials, adsorption_log)\n",
    "\n",
    "transport = np.exp(-1.5 * C.E_0*C.BETA * aq_sol['phi2'].values)\n",
    "transport_log = np.log10(transport)\n",
    "transport_tafel = np.gradient(potentials, transport_log)\n",
    "\n",
    "fig, ax = plt.subplots(nrows=1, ncols=2, figsize=(8,3), sharex=True)\n",
    "ax[0].plot(aq_sol['phi0'], -adsorption/np.max(adsorption), '--')\n",
    "ax[0].plot(aq_sol['phi0'], -transport/np.max(transport), '--')\n",
    "ax[1].plot(aq_sol['phi0'], adsorption_tafel * 1e3)\n",
    "ax[1].plot(aq_sol['phi0'], transport_tafel * 1e3)\n",
    "ax[1].set_ylim([-200, 0])"
   ]
  },
  {
   "cell_type": "code",
   "execution_count": null,
   "metadata": {},
   "outputs": [],
   "source": [
    "import plotting\n",
    "\n",
    "gamma_range = [4, 8, 12, 16, 20, 24]\n",
    "fig, ax = plt.subplots(nrows=4, ncols=2, figsize=(8,8), sharex=True)\n",
    "\n",
    "for i, gamma in enumerate(gamma_range):\n",
    "    potentials = np.linspace(-2, 0, 100)\n",
    "    aq = edl.Aqueous(1e-2, gamma,gamma,gamma,gamma)\n",
    "    aq_sol = aq.potential_sweep(potentials, p_h=12)\n",
    "\n",
    "    adsorption = np.exp(-0.5*C.E_0*C.BETA * C.D_ADSORBATE_LAYER * aq_sol['efield'].values) * aq_sol['solvent'].values\n",
    "    adsorption_log = np.log10(adsorption) \n",
    "    adsorption_tafel = np.gradient(potentials, adsorption_log)\n",
    "\n",
    "    transport = np.exp(-1.5 * C.E_0*C.BETA * aq_sol['phi2'].values)\n",
    "    transport_log = np.log10(transport)\n",
    "    transport_tafel = np.gradient(potentials, transport_log)\n",
    "\n",
    "    color = plotting.get_color_gradient(len(gamma_range))[i]\n",
    "    ax[0,0].plot(aq_sol['phi0'], -adsorption, color=color,  label=gamma_range[i])\n",
    "    ax[1,0].plot(aq_sol['phi0'], -transport, color=color)\n",
    "    ax[0,1].plot(aq_sol['phi0'], adsorption_tafel * 1e3, color=color)\n",
    "    ax[1,1].plot(aq_sol['phi0'], transport_tafel * 1e3, color=color)\n",
    "    ax[2,0].plot(aq_sol['phi0'], aq_sol['efield'] * 1e-9, color=color)\n",
    "    ax[2,1].plot(aq_sol['phi0'], aq_sol['phi2'], color=color)\n",
    "    ax[3,0].plot(aq_sol['phi0'], aq_sol['solvent'], color=color)\n",
    "    ax[3,1].plot(aq_sol['phi0'], aq_sol['eps'], color=color)\n",
    "    ax[0,1].set_ylim([-200, 0])\n",
    "    ax[1,1].set_ylim([-200, 0])\n",
    "\n",
    "ax[0,0].legend()"
   ]
  },
  {
   "cell_type": "code",
   "execution_count": null,
   "metadata": {},
   "outputs": [],
   "source": [
    "import plotting\n",
    "\n",
    "conc_range = [1e-3, 10e-3, 100e-3, 1000e-3]\n",
    "fig, ax = plt.subplots(nrows=4, ncols=2, figsize=(8,8), sharex=True)\n",
    "\n",
    "for i, conc in enumerate(conc_range):\n",
    "    potentials = np.linspace(-2, 0, 100)\n",
    "    aq = edl.Aqueous(conc, 8,8,8,8)\n",
    "    aq_sol = aq.potential_sweep(potentials)\n",
    "\n",
    "    adsorption = np.exp(-0.5*C.E_0*C.BETA * C.D_ADSORBATE_LAYER * aq_sol['efield'].values) * aq_sol['solvent'].values\n",
    "    adsorption_log = np.log10(adsorption) \n",
    "    adsorption_tafel = np.gradient(potentials, adsorption_log)\n",
    "\n",
    "    transport = np.exp(-1.5 * C.E_0*C.BETA * aq_sol['phi2'].values)\n",
    "    transport_log = np.log10(transport)\n",
    "    transport_tafel = np.gradient(potentials, transport_log)\n",
    "\n",
    "    color = plotting.get_color_gradient(len(gamma_range))[i]\n",
    "    ax[0,0].plot(aq_sol['phi0'], -adsorption, color=color,  label=conc)\n",
    "    ax[1,0].plot(aq_sol['phi0'], -transport, color=color)\n",
    "    ax[0,1].plot(aq_sol['phi0'], adsorption_tafel * 1e3, color=color)\n",
    "    ax[1,1].plot(aq_sol['phi0'], transport_tafel * 1e3, color=color)\n",
    "    ax[2,0].plot(aq_sol['phi0'], aq_sol['efield'] * 1e-9, color=color)\n",
    "    ax[2,1].plot(aq_sol['phi0'], aq_sol['phi2'], color=color)\n",
    "    ax[3,0].plot(aq_sol['phi0'], aq_sol['solvent'], color=color)\n",
    "    ax[3,1].plot(aq_sol['phi0'], aq_sol['cations'], color=color)\n",
    "    ax[0,1].set_ylim([-200, 0])\n",
    "    ax[1,1].set_ylim([-200, 0])\n",
    "\n",
    "ax[0,0].legend()"
   ]
  },
  {
   "cell_type": "code",
   "execution_count": null,
   "metadata": {},
   "outputs": [],
   "source": []
  }
 ],
 "metadata": {
  "kernelspec": {
   "display_name": "Python 3",
   "language": "python",
   "name": "python3"
  },
  "language_info": {
   "codemirror_mode": {
    "name": "ipython",
    "version": 3
   },
   "file_extension": ".py",
   "mimetype": "text/x-python",
   "name": "python",
   "nbconvert_exporter": "python",
   "pygments_lexer": "ipython3",
   "version": "3.9.6"
  },
  "orig_nbformat": 4
 },
 "nbformat": 4,
 "nbformat_minor": 2
}
