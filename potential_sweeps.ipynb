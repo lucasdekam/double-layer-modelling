{
 "cells": [
  {
   "cell_type": "code",
   "execution_count": null,
   "metadata": {},
   "outputs": [],
   "source": [
    "import numpy as np\n",
    "import matplotlib.pyplot as plt\n",
    "import edl\n",
    "import plotting\n",
    "\n",
    "%matplotlib widget"
   ]
  },
  {
   "cell_type": "code",
   "execution_count": null,
   "metadata": {},
   "outputs": [],
   "source": [
    "ion_concentration_molar = 1e-1\n",
    "ion_diameter_m = 2.75e-10\n",
    "solvent_diameter_m = 2.75e-10\n",
    "potentials = np.linspace(-0.5, 0.5, 100)"
   ]
  },
  {
   "cell_type": "code",
   "execution_count": null,
   "metadata": {},
   "outputs": [],
   "source": [
    "gc = edl.GouyChapman(ion_concentration_molar)\n",
    "gc_nsol = gc.potential_sweep(potentials, tol=1e-3)\n",
    "gc_asol = gc.analytical_sweep(potentials)\n",
    "\n",
    "fig, ax = plotting.plot_potential_sweep([gc_asol, gc_nsol])\n",
    "ax[1].set_ylim([0, 900])\n",
    "plt.show()"
   ]
  },
  {
   "cell_type": "code",
   "execution_count": null,
   "metadata": {},
   "outputs": [],
   "source": [
    "borukhov = edl.Borukhov(ion_concentration_molar, solvent_diameter_m)\n",
    "borukhov_nsol = borukhov.potential_sweep(potentials, tol=1e-3)\n",
    "borukhov_asol = borukhov.analytical_sweep(potentials)\n",
    "\n",
    "fig, ax = plotting.plot_potential_sweep([borukhov_asol, borukhov_nsol])\n",
    "ax[1].set_ylim([0, 900])\n",
    "plt.show()"
   ]
  },
  {
   "cell_type": "code",
   "execution_count": null,
   "metadata": {},
   "outputs": [],
   "source": [
    "abr = edl.Abrashkin(ion_concentration_molar, 5, 11)\n",
    "abr_nsol = abr.potential_sweep(potentials)\n",
    "\n",
    "abr2 = edl.Abrashkin(ion_concentration_molar, 1, 1)\n",
    "abr2_nsol = abr2.potential_sweep(potentials)\n",
    "\n",
    "fig, ax = plotting.plot_potential_sweep([gc_asol, borukhov_asol, abr_nsol, abr2_nsol])\n",
    "ax[1].set_ylim([0, 250])\n",
    "plt.show()"
   ]
  },
  {
   "cell_type": "code",
   "execution_count": null,
   "metadata": {},
   "outputs": [],
   "source": [
    "potentials = np.linspace(-1, 1, 100)\n",
    "ph_lpb = edl.Aqueous(5e-3, 5, 11, 60, 15)\n",
    "ph_lpb_nsol = ph_lpb.potential_sweep(potentials)\n",
    "\n",
    "fig, ax = plotting.plot_potential_sweep([abr_nsol, ph_lpb_nsol])\n",
    "ax[1].set_ylim([0, 250])\n",
    "plt.show()"
   ]
  },
  {
   "cell_type": "code",
   "execution_count": null,
   "metadata": {},
   "outputs": [],
   "source": []
  },
  {
   "cell_type": "code",
   "execution_count": null,
   "metadata": {},
   "outputs": [],
   "source": []
  }
 ],
 "metadata": {
  "kernelspec": {
   "display_name": "Python 3",
   "language": "python",
   "name": "python3"
  },
  "language_info": {
   "codemirror_mode": {
    "name": "ipython",
    "version": 3
   },
   "file_extension": ".py",
   "mimetype": "text/x-python",
   "name": "python",
   "nbconvert_exporter": "python",
   "pygments_lexer": "ipython3",
   "version": "3.9.6"
  },
  "orig_nbformat": 4,
  "vscode": {
   "interpreter": {
    "hash": "5238573367df39f7286bb46f9ff5f08f63a01a80960060ce41e3c79b190280fa"
   }
  }
 },
 "nbformat": 4,
 "nbformat_minor": 2
}
