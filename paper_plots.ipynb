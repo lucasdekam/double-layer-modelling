{
 "cells": [
  {
   "cell_type": "code",
   "execution_count": null,
   "metadata": {},
   "outputs": [],
   "source": [
    "import numpy as np\n",
    "import matplotlib.pyplot as plt\n",
    "import edl\n",
    "import constants as C\n",
    "import plotting\n",
    "\n",
    "%matplotlib widget\n",
    "\n",
    "p_h = 11"
   ]
  },
  {
   "cell_type": "markdown",
   "metadata": {},
   "source": [
    "Electrostatic pressure on gold and silica"
   ]
  },
  {
   "cell_type": "code",
   "execution_count": null,
   "metadata": {},
   "outputs": [],
   "source": [
    "gamma_range = [4, 6, 8, 10]\n",
    "fig, ax = plt.subplots(figsize=(4,3))\n",
    "potentials = np.linspace(-2, 0, 100)\n",
    "potentials_v_rhe = potentials + C.AU_PZC_SHE_V + 59e-3 * p_h\n",
    "for i, gamma in enumerate(gamma_range):\n",
    "    gold = edl.Aqueous(1e-2, gamma, 8, 8, 8)\n",
    "    gold_sol = gold.potential_sweep(potentials, p_h=p_h)\n",
    "\n",
    "    color = plotting.get_color_gradient(len(gamma_range), color='blue')[i]\n",
    "    ax.plot(potentials_v_rhe, gold_sol['pressure']/1e5, color=color, label=gamma)\n",
    "\n",
    "    silica = edl.Aqueous(1e-2, gamma, 8, 8, 8)\n",
    "    silica_sol = silica.insulator_spatial_profiles(p_h=p_h, tol=1e-2)\n",
    "    \n",
    "    color = plotting.get_color_gradient(len(gamma_range), color='green')[i]\n",
    "    ax.plot(potentials_v_rhe, np.ones(potentials.shape) * silica_sol['pressure'][0]/1e5, color=color)\n",
    "\n",
    "ax.legend()\n",
    "ax.set_xlabel(r'$\\phi_0$ [V vs. RHE]')\n",
    "ax.set_ylabel(r'$P-P_0$ [bar]')\n",
    "plt.tight_layout()\n",
    "\n",
    "plt.savefig('figures/gold-nano-pressures.pdf')"
   ]
  },
  {
   "cell_type": "markdown",
   "metadata": {},
   "source": [
    "Cation size trend on noble metals"
   ]
  },
  {
   "cell_type": "code",
   "execution_count": null,
   "metadata": {},
   "outputs": [],
   "source": [
    "gamma_range = [4, 6, 8, 10]\n",
    "fig, ax = plt.subplots(figsize=(3,3))\n",
    "\n",
    "potentials_v_rhe = np.linspace(-0.8, 0, 100)\n",
    "potentials = potentials_v_rhe - C.AU_PZC_SHE_V - 59e-3 * p_h\n",
    "current = np.zeros((len(gamma_range), len(potentials)))\n",
    "colors = plotting.get_color_gradient(len(gamma_range))\n",
    "\n",
    "for i, gamma in enumerate(gamma_range):\n",
    "    aq = edl.Aqueous(1e-3, gamma,8,8,8)\n",
    "    aq_sol = aq.potential_sweep(potentials, p_h=p_h)\n",
    "    current[i,:] = -aq_sol['solvent'] * np.exp(-0.5 * C.BETA * C.E_0 * aq_sol['efield'] * C.D_ADSORBATE_LAYER)\n",
    "    # current[i,:] = -aq_sol['solvent'] * np.exp(-0.5 * C.BETA * C.E_0 * aq_sol['efield'] * C.D_ADSORBATE_LAYER - C.BETA * np.abs(aq_sol['pressure']) * 5 / aq.n_max)\n",
    "\n",
    "current = current / np.max(np.abs(current))\n",
    "\n",
    "for i, gamma in enumerate(gamma_range):\n",
    "    ax.plot(potentials_v_rhe, current[i,:], color=colors[i], label=rf'$\\gamma_+=${gamma}')\n",
    "\n",
    "ax.set_ylabel(r'$i/|i_\\mathrm{max}|$')\n",
    "ax.set_xlabel(r'$\\phi_0$ [V vs. RHE]')\n",
    "ax.legend()\n",
    "plt.tight_layout()\n",
    "\n",
    "plt.savefig('figures/noble_cation_size.pdf')"
   ]
  },
  {
   "cell_type": "markdown",
   "metadata": {},
   "source": [
    "Cation concentration trends on noble metals"
   ]
  },
  {
   "cell_type": "code",
   "execution_count": null,
   "metadata": {},
   "outputs": [],
   "source": [
    "conc_range = [1e-3, 10e-3, 100e-3, 1000e-3]\n",
    "fig, ax = plt.subplots(figsize=(3,3))\n",
    "\n",
    "potentials_v_rhe = np.linspace(-0.8, 0, 100)\n",
    "potentials = potentials_v_rhe - C.AU_PZC_SHE_V - 59e-3 * p_h\n",
    "current = np.zeros((len(conc_range), len(potentials)))\n",
    "colors = plotting.get_color_gradient(len(conc_range))\n",
    "\n",
    "for i, conc in enumerate(conc_range):\n",
    "    aq = edl.Aqueous(conc, 8,8,8,8)\n",
    "    aq_sol = aq.potential_sweep(potentials, p_h=p_h)\n",
    "    current[i,:] = -aq_sol['solvent'] * np.exp(-0.5 * C.BETA * C.E_0 * aq_sol['efield'] * C.D_ADSORBATE_LAYER)\n",
    "current = current / np.max(np.abs(current))\n",
    "\n",
    "for i, conc in enumerate(conc_range):\n",
    "    ax.plot(potentials_v_rhe, current[i,:], color=colors[i], label=rf'$c_+^0=${conc*1000:.0f}mM')\n",
    "\n",
    "ax.set_ylabel(r'$i/|i_\\mathrm{max}|$')\n",
    "ax.set_xlabel(r'$\\phi_0$ [V vs. RHE]')\n",
    "ax.legend()\n",
    "plt.tight_layout()\n",
    "\n",
    "plt.savefig('figures/noble_cation_conc.pdf')"
   ]
  },
  {
   "cell_type": "markdown",
   "metadata": {},
   "source": [
    "pH trends on noble metals"
   ]
  },
  {
   "cell_type": "code",
   "execution_count": null,
   "metadata": {},
   "outputs": [],
   "source": [
    "ph_range = [10, 11, 12, 13]\n",
    "fig, ax = plt.subplots(figsize=(3,3))\n",
    "\n",
    "potentials_v_rhe = np.linspace(-0.8, 0, 100)\n",
    "current = np.zeros((len(ph_range), len(potentials)))\n",
    "colors = plotting.get_color_gradient(len(ph_range))\n",
    "\n",
    "for i, ph in enumerate(ph_range):\n",
    "    potentials = potentials_v_rhe - C.AU_PZC_SHE_V - 59e-3 * ph\n",
    "    aq = edl.Aqueous(1e-3, 8,8,8,8)\n",
    "    aq_sol = aq.potential_sweep(potentials, p_h=ph)\n",
    "    current[i,:] = -aq_sol['solvent'] * np.exp(-0.5 * C.BETA * C.E_0 * aq_sol['efield'] * C.D_ADSORBATE_LAYER)\n",
    "current = current / np.max(np.abs(current))\n",
    "\n",
    "for i, ph in enumerate(ph_range):\n",
    "    ax.plot(potentials_v_rhe, current[i,:], color=colors[i], label=rf'pH {ph}')\n",
    "\n",
    "ax.set_ylabel(r'$i/|i_\\mathrm{max}|$')\n",
    "ax.set_xlabel(r'$\\phi_0$ [V vs. RHE]')\n",
    "ax.legend()\n",
    "plt.tight_layout()\n",
    "\n",
    "plt.savefig('figures/noble_ph.pdf')"
   ]
  },
  {
   "cell_type": "markdown",
   "metadata": {},
   "source": [
    "Cation size trends on reactive metals"
   ]
  },
  {
   "cell_type": "code",
   "execution_count": null,
   "metadata": {},
   "outputs": [],
   "source": [
    "gamma_range = [4, 6, 8, 10]\n",
    "fig, ax = plt.subplots(figsize=(3,3))\n",
    "\n",
    "potentials_v_rhe = np.linspace(-0.2, 0, 100)\n",
    "potentials = potentials_v_rhe - C.PT_PZC_SHE_V - 59e-3 * p_h\n",
    "\n",
    "current = np.zeros((len(gamma_range), len(potentials)))\n",
    "colors = plotting.get_color_gradient(len(gamma_range))\n",
    "\n",
    "for i, gamma in enumerate(gamma_range):\n",
    "    aq = edl.Aqueous(1e-2, gamma,8,8,8)\n",
    "    aq_sol = aq.potential_sweep(potentials, p_h=p_h)\n",
    "    current[i,:] = - np.exp(-2 * (C.BETA * C.E_0 * aq_sol['phi2'] + C.BETA * np.abs(aq_sol['pressure']) * 3 / aq.n_max))\n",
    "current = current / np.max(np.abs(current))\n",
    "\n",
    "for i, gamma in enumerate(gamma_range):\n",
    "    ax.plot(potentials_v_rhe, current[i,:], color=colors[i], label=rf'$\\gamma_+=${gamma}')\n",
    "\n",
    "ax.set_ylabel(r'$i/|i_\\mathrm{max}|$')\n",
    "ax.set_xlabel(r'$\\phi_0$ [V vs. RHE]')\n",
    "ax.legend()\n",
    "plt.tight_layout()\n",
    "\n",
    "plt.savefig('figures/reactive_cation_size.pdf')"
   ]
  },
  {
   "cell_type": "markdown",
   "metadata": {},
   "source": [
    "Cation concentration trend on reactive metals"
   ]
  },
  {
   "cell_type": "code",
   "execution_count": null,
   "metadata": {},
   "outputs": [],
   "source": [
    "conc_range = [1e-3, 10e-3, 100e-3, 1000e-3]\n",
    "fig, ax = plt.subplots(figsize=(3,3))\n",
    "\n",
    "potentials_v_rhe = np.linspace(-0.2, 0, 100)\n",
    "potentials = potentials_v_rhe - C.PT_PZC_SHE_V - 59e-3 * p_h\n",
    "\n",
    "current = np.zeros((len(conc_range), len(potentials)))\n",
    "colors = plotting.get_color_gradient(len(conc_range))\n",
    "\n",
    "for i, conc in enumerate(conc_range):\n",
    "    aq = edl.Aqueous(conc, 8,8,8,8)\n",
    "    aq_sol = aq.potential_sweep(potentials, p_h=p_h)\n",
    "    current[i,:] = -np.exp(-2 * (C.BETA * C.E_0 * aq_sol['phi2'] + C.BETA * np.abs(aq_sol['pressure']) * 3 / aq.n_max))\n",
    "current = current / np.max(np.abs(current))\n",
    "\n",
    "for i, conc in enumerate(conc_range):\n",
    "    # ax.plot(potentials_v_rhe, current[i,:], color=colors[i], label=rf'$c_+^0=${conc*1000:.0f}mM')\n",
    "    ax.plot(potentials_v_rhe, np.log10(-current[i,:]), color=colors[i], label=rf'$c_+^0=${conc*1000:.0f}mM')\n",
    "\n",
    "ax.set_ylabel(r'$\\log_{10} (i/|i_\\mathrm{max}|)$')\n",
    "ax.set_xlabel(r'$\\phi_0$ [V vs. RHE]')\n",
    "ax.legend()\n",
    "ax.set_ylim([-12, 1])\n",
    "plt.tight_layout()\n",
    "\n",
    "plt.savefig('figures/reactive_cation_conc.pdf')"
   ]
  },
  {
   "cell_type": "markdown",
   "metadata": {},
   "source": [
    "Reactive metal pH series"
   ]
  },
  {
   "cell_type": "code",
   "execution_count": null,
   "metadata": {},
   "outputs": [],
   "source": [
    "ph_range = [10, 11, 12, 13]\n",
    "fig, ax = plt.subplots(figsize=(3,3))\n",
    "\n",
    "potentials_v_rhe = np.linspace(-0.2, 0, 100)\n",
    "current = np.zeros((len(ph_range), len(potentials_v_rhe)))\n",
    "colors = plotting.get_color_gradient(len(ph_range))\n",
    "\n",
    "for i, ph in enumerate(ph_range):\n",
    "    potentials = potentials_v_rhe - C.PT_PZC_SHE_V - 59e-3 * ph\n",
    "    aq = edl.Aqueous(1e-2, 8,8,8,8)\n",
    "    aq_sol = aq.potential_sweep(potentials, p_h=ph)\n",
    "    current[i,:] = -np.exp(-2 * (C.BETA * C.E_0 * aq_sol['phi2'] + C.BETA * np.abs(aq_sol['pressure']) * 3 / aq.n_max))\n",
    "    # ax[1].plot(potentials_v_rhe, C.BETA * aq_sol['pressure'] * 3/aq.n_max, color=colors[i])\n",
    "current = current / np.max(np.abs(current))\n",
    "\n",
    "for i, ph in enumerate(ph_range):\n",
    "    ax.plot(potentials_v_rhe, current[i,:], color=colors[i], label=rf'pH {ph}')\n",
    "\n",
    "ax.set_ylabel(r'$\\log_{10} (i/|i_\\mathrm{max}|)$')\n",
    "ax.set_xlabel(r'$\\phi_0$ [V vs. RHE]')\n",
    "ax.legend()\n",
    "plt.tight_layout()\n",
    "\n",
    "plt.savefig('figures/reactive_ph.pdf')"
   ]
  },
  {
   "cell_type": "markdown",
   "metadata": {},
   "source": [
    "Nanostructure cation size trend"
   ]
  },
  {
   "cell_type": "code",
   "execution_count": null,
   "metadata": {},
   "outputs": [],
   "source": [
    "p_h = 13\n",
    "gamma_range = [4, 6, 8, 10]\n",
    "fig, ax = plt.subplots(figsize=(5,3))\n",
    "\n",
    "potentials_v_rhe = np.linspace(-0.6, 0, 100)\n",
    "potentials = potentials_v_rhe - C.AU_PZC_SHE_V - 59e-3 * p_h\n",
    "\n",
    "current = np.zeros((len(conc_range), len(potentials)))\n",
    "colors = plotting.get_color_gradient(len(conc_range))\n",
    "\n",
    "for i, gamma in enumerate(gamma_range):\n",
    "    aq = edl.Aqueous(1e-2, gamma,8,8,8)\n",
    "    aq_sol = aq.potential_sweep(potentials, p_h=p_h)\n",
    "    silica = edl.Aqueous(1e-2, gamma, 8, 8, 8)\n",
    "    silica_sol = silica.insulator_spatial_profiles(p_h=p_h, tol=1e-2)    \n",
    "    # current[i,:] = -np.exp(-2 * (C.BETA * C.E_0 * aq_sol['phi2'] + C.BETA * np.abs(silica_sol['pressure'][0]) * 3 / aq.n_max))\n",
    "    current[i,:] = -np.exp(-0.5 * (C.BETA * C.E_0 * aq_sol['efield'] * C.D_ADSORBATE_LAYER + C.BETA * np.abs(silica_sol['pressure'][0]) * 3 / aq.n_max))\n",
    "\n",
    "current = current / np.max(np.abs(current))\n",
    "\n",
    "for i, gamma in enumerate(gamma_range):\n",
    "    ax.plot(potentials_v_rhe, current[i,:], color=colors[i], label=rf'$\\gamma_+=${gamma}')\n",
    "\n",
    "ax.set_ylabel(r'$\\log_{10} (i/|i_\\mathrm{max}|)$')\n",
    "ax.set_xlabel(r'$\\phi_0$ [V vs. RHE]')\n",
    "ax.legend()\n",
    "ax.set_ylim([-0.0025, 0.0001])\n",
    "plt.tight_layout()\n",
    "\n",
    "plt.savefig('figures/nano_cation_size.pdf')"
   ]
  },
  {
   "cell_type": "markdown",
   "metadata": {},
   "source": [
    "Nanostructure cation conc trend"
   ]
  },
  {
   "cell_type": "code",
   "execution_count": null,
   "metadata": {},
   "outputs": [],
   "source": [
    "p_h = 7\n",
    "conc_range = [1e-3, 10e-3, 100e-3, 1000e-3]\n",
    "fig, ax = plt.subplots(figsize=(3,3))\n",
    "\n",
    "potentials_v_rhe = np.linspace(-0.8, 0, 100)\n",
    "potentials = potentials_v_rhe - C.AU_PZC_SHE_V - 59e-3 * p_h\n",
    "\n",
    "current = np.zeros((len(conc_range), len(potentials)))\n",
    "colors = plotting.get_color_gradient(len(conc_range))\n",
    "\n",
    "for i, conc in enumerate(conc_range):\n",
    "    aq = edl.Aqueous(conc, 8,8,8,8)\n",
    "    aq_sol = aq.potential_sweep(potentials, p_h=p_h)\n",
    "    silica = edl.Aqueous(conc, 8, 8, 8, 8)\n",
    "    silica_sol = silica.insulator_spatial_profiles(p_h=p_h, tol=1e-2)        \n",
    "    # current[i,:] = -np.exp(-2 * (C.BETA * C.E_0 * aq_sol['phi2'] + C.BETA * np.abs(silica_sol['pressure'][0]) * 3 / aq.n_max))\n",
    "    current[i,:] = -np.exp(-0.5 * (C.BETA * C.E_0 * aq_sol['efield'] * C.D_ADSORBATE_LAYER + C.BETA * np.abs(silica_sol['pressure'][0]) * 3 / aq.n_max))\n",
    "\n",
    "current = current / np.max(np.abs(current))\n",
    "\n",
    "for i, conc in enumerate(conc_range):\n",
    "    ax.plot(potentials_v_rhe, np.log10(-current[i,:]), color=colors[i], label=rf'$c_+^0=${conc*1000:.0f}mM')\n",
    "    # ax.plot(potentials_v_rhe, current[i,:], color=colors[i], label=rf'$c_+^0=${conc*1000:.0f}mM')\n",
    "\n",
    "ax.set_ylabel(r'$\\log_{10} (i/|i_\\mathrm{max}|)$')\n",
    "ax.set_xlabel(r'$\\phi_0$ [V vs. RHE]')\n",
    "ax.legend()\n",
    "ax.set_ylim([-15, 1])\n",
    "plt.tight_layout()\n",
    "\n",
    "plt.savefig('figures/nano_cation_conc.pdf')"
   ]
  },
  {
   "cell_type": "markdown",
   "metadata": {},
   "source": [
    "Nanostructure pH series"
   ]
  },
  {
   "cell_type": "code",
   "execution_count": null,
   "metadata": {},
   "outputs": [],
   "source": [
    "ph_range = [7, 9, 11, 13]\n",
    "fig, ax = plt.subplots(figsize=(3,3))\n",
    "\n",
    "potentials_v_rhe = np.linspace(-0.8, 0, 100)\n",
    "current = np.zeros((len(ph_range), len(potentials_v_rhe)))\n",
    "colors = plotting.get_color_gradient(len(ph_range))\n",
    "\n",
    "for i, ph in enumerate(ph_range):\n",
    "    potentials = potentials_v_rhe - C.AU_PZC_SHE_V - 59e-3 * ph\n",
    "    aq = edl.Aqueous(1e-2, 8,8,8,8)\n",
    "    aq_sol = aq.potential_sweep(potentials, p_h=ph)\n",
    "    current[i,:] = -np.exp(-2 * (C.BETA * C.E_0 * aq_sol['phi2'] + C.BETA * np.abs(silica_sol['pressure'][0]) * 3 / aq.n_max))\n",
    "current = current / np.max(np.abs(current))\n",
    "\n",
    "for i, ph in enumerate(ph_range):\n",
    "    ax.plot(potentials_v_rhe, current[i,:], color=colors[i], label=rf'pH {ph}')\n",
    "\n",
    "ax.set_ylabel(r'$\\log_{10} (i/|i_\\mathrm{max}|)$')\n",
    "ax.set_xlabel(r'$\\phi_0$ [V vs. RHE]')\n",
    "ax.legend()\n",
    "plt.tight_layout()\n",
    "\n",
    "plt.savefig('figures/nano_ph.pdf')"
   ]
  },
  {
   "cell_type": "code",
   "execution_count": null,
   "metadata": {},
   "outputs": [],
   "source": []
  }
 ],
 "metadata": {
  "kernelspec": {
   "display_name": "Python 3",
   "language": "python",
   "name": "python3"
  },
  "language_info": {
   "codemirror_mode": {
    "name": "ipython",
    "version": 3
   },
   "file_extension": ".py",
   "mimetype": "text/x-python",
   "name": "python",
   "nbconvert_exporter": "python",
   "pygments_lexer": "ipython3",
   "version": "3.11.2"
  },
  "orig_nbformat": 4
 },
 "nbformat": 4,
 "nbformat_minor": 2
}
