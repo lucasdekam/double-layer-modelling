{
 "cells": [
  {
   "cell_type": "code",
   "execution_count": null,
   "id": "bf77cc2d",
   "metadata": {},
   "outputs": [],
   "source": [
    "import matplotlib.pyplot as plt\n",
    "import numpy as np\n",
    "import edl\n",
    "import plotting\n",
    "\n",
    "%matplotlib widget"
   ]
  },
  {
   "cell_type": "code",
   "execution_count": null,
   "id": "fc28a919",
   "metadata": {},
   "outputs": [],
   "source": [
    "ion_concentration_molar = 1e-1\n",
    "solvent_diameter_m = 2.75e-10\n",
    "gamma_c = 6\n",
    "ion_diameter_m = gamma_c ** (1/3) * solvent_diameter_m\n",
    "print(ion_diameter_m * 1e10)\n",
    "phi0 = -0.5\n",
    "xmin = 0\n",
    "xmax = 1"
   ]
  },
  {
   "attachments": {},
   "cell_type": "markdown",
   "id": "7723b9b6",
   "metadata": {},
   "source": [
    "## Gouy-Chapman\n",
    "Gives insight, but ion concentrations are much too high."
   ]
  },
  {
   "cell_type": "code",
   "execution_count": null,
   "id": "806ff9f0",
   "metadata": {},
   "outputs": [],
   "source": [
    "gc = edl.GouyChapman(ion_concentration_molar)\n",
    "\n",
    "gc_sol = gc.spatial_profiles(phi0)\n",
    "\n",
    "fig, ax = plotting.plot_solutions([gc_sol], xmin, xmax)\n",
    "plt.show()"
   ]
  },
  {
   "attachments": {},
   "cell_type": "markdown",
   "id": "36cfec0a",
   "metadata": {},
   "source": [
    "## Borukhov-Andelman-Orland\n",
    "Ion concentration is limited to its maximum value at the electrode."
   ]
  },
  {
   "cell_type": "code",
   "execution_count": null,
   "id": "217a6f66",
   "metadata": {},
   "outputs": [],
   "source": [
    "bao = edl.Borukhov(ion_concentration_molar, ion_diameter_m)\n",
    "bao_sol = bao.spatial_profiles(phi0)\n",
    "\n",
    "fig, ax = plotting.plot_solutions([bao_sol], xmin, xmax)\n",
    "plt.show()"
   ]
  },
  {
   "attachments": {},
   "cell_type": "markdown",
   "id": "ab1bb259",
   "metadata": {},
   "source": [
    "## Abrashkin-Andelman-Orland\n",
    "A Stern layer emerges if the dipole energy is more negative (large dipole moment and large electric field) than the Coulomb energy of ions directly at the electrode."
   ]
  },
  {
   "cell_type": "code",
   "execution_count": null,
   "id": "c347a0b4",
   "metadata": {},
   "outputs": [],
   "source": [
    "abr = edl.Abrashkin(ion_concentration_molar, gamma_c, gamma_c)\n",
    "abr_sol = abr.spatial_profiles(phi0)\n",
    "\n",
    "fig, ax = plotting.plot_solutions([abr_sol], xmin, xmax)\n",
    "plt.show()"
   ]
  },
  {
   "attachments": {},
   "cell_type": "markdown",
   "id": "4d274769",
   "metadata": {},
   "source": [
    "## Langevin-Poisson-Boltzmann with pH"
   ]
  },
  {
   "cell_type": "code",
   "execution_count": null,
   "id": "e4663220",
   "metadata": {},
   "outputs": [],
   "source": [
    "aqu = edl.Aqueous(1e-1, gamma_c, gamma_c, gamma_c, gamma_c)\n",
    "aqu_sol = aqu.spatial_profiles(phi0, p_h=13, tol=1e-3)\n",
    "\n",
    "fig, ax = plotting.plot_solutions([abr_sol, aqu_sol], xmin, xmax)\n",
    "plt.show()"
   ]
  },
  {
   "cell_type": "code",
   "execution_count": null,
   "id": "63531817",
   "metadata": {},
   "outputs": [],
   "source": [
    "gamma_range = np.linspace(4, 24, 10)\n",
    "sol_list = []\n",
    "\n",
    "for gamma in gamma_range:\n",
    "    aqu = edl.Aqueous(1e-1, gamma, gamma, gamma, gamma)\n",
    "    aqu_sol = aqu.spatial_profiles(-0.5, p_h=13, tol=1e-3)\n",
    "    sol_list.append(aqu_sol)\n",
    "\n",
    "fig, ax = plotting.plot_solutions(sol_list, xmin, xmax, suppress_names=True)\n",
    "plt.show()"
   ]
  },
  {
   "cell_type": "code",
   "execution_count": null,
   "id": "87b80fac",
   "metadata": {},
   "outputs": [],
   "source": [
    "import constants as C\n",
    "xi = 1/aqu.kappa_debye * 1e9\n",
    "y2 = C.BETA * C.E_0/aqu.kappa_debye * aqu_sol['efield']\n",
    "\n",
    "xi, np.max(np.abs(y2))"
   ]
  },
  {
   "cell_type": "code",
   "execution_count": null,
   "id": "c4f56333",
   "metadata": {},
   "outputs": [],
   "source": []
  }
 ],
 "metadata": {
  "kernelspec": {
   "display_name": "Python 3",
   "language": "python",
   "name": "python3"
  },
  "language_info": {
   "codemirror_mode": {
    "name": "ipython",
    "version": 3
   },
   "file_extension": ".py",
   "mimetype": "text/x-python",
   "name": "python",
   "nbconvert_exporter": "python",
   "pygments_lexer": "ipython3",
   "version": "3.11.2"
  },
  "vscode": {
   "interpreter": {
    "hash": "5238573367df39f7286bb46f9ff5f08f63a01a80960060ce41e3c79b190280fa"
   }
  }
 },
 "nbformat": 4,
 "nbformat_minor": 5
}
