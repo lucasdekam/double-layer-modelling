{
 "cells": [
  {
   "cell_type": "code",
   "execution_count": null,
   "metadata": {},
   "outputs": [],
   "source": [
    "import matplotlib.pyplot as plt\n",
    "import numpy as np\n",
    "import edl\n",
    "import constants as C\n",
    "\n",
    "%matplotlib widget"
   ]
  },
  {
   "cell_type": "code",
   "execution_count": null,
   "metadata": {},
   "outputs": [],
   "source": [
    "gouychapstern = edl.Aqueous(0.5, 0,0,0,0, eps_r_opt=C.EPS_R_WATER)\n",
    "gammaK = edl.Aqueous(0.5, 6, 6, 6, 6)\n",
    "gammaNa = edl.Aqueous(0.5, 8, 8, 8, 8)\n",
    "gammaLi = edl.Aqueous(0.5, 10, 10, 10, 10)\n",
    "\n",
    "p_h = np.linspace(1, 13, 500)\n",
    "\n",
    "sweep0 = gouychapstern.ph_sweep(p_h, tol=1e-2)\n",
    "sweep1 = gammaK.ph_sweep(p_h, tol=1e-2)\n",
    "sweep2 = gammaNa.ph_sweep(p_h, tol=1e-2)\n",
    "sweep3 = gammaLi.ph_sweep(p_h, tol=1e-2)"
   ]
  },
  {
   "cell_type": "code",
   "execution_count": null,
   "metadata": {},
   "outputs": [],
   "source": [
    "plt.close()\n",
    "fig, ax = plt.subplots(figsize=(5,4))\n",
    "\n",
    "ax.plot(p_h, -sweep1['charge'].values*1e2, color='tab:purple', label=rf'$\\gamma_+=${gammaK.gammas[2,0]:.0f}', linewidth=1)\n",
    "ax.plot(p_h, -sweep2['charge'].values*1e2, color='tab:red', label=rf'$\\gamma_+=${gammaNa.gammas[2,0]:.0f}', linewidth=1)\n",
    "ax.plot(p_h, -sweep3['charge'].values*1e2, color='tab:green', label=rf'$\\gamma_+=${gammaLi.gammas[2,0]:.0f}', linewidth=1)\n",
    "\n",
    "ax.plot(p_h, -sweep0['charge'].values*1e2, color='gray', label=rf'Gouy-Chapman-Stern', linewidth=1)\n",
    "\n",
    "c_h = 10 ** (-p_h)\n",
    "sigma = C.E_0 * C.N_SITES_SILICA \\\n",
    "            * (c_h**2 - C.K_SILICA_A * C.K_SILICA_B) \\\n",
    "            / (C.K_SILICA_A * C.K_SILICA_B + C.K_SILICA_B * c_h + c_h**2)\n",
    "ax.plot(p_h, -sigma * 1e2, '--', color='tab:brown', label='Bulk pH', linewidth=1)\n",
    "\n",
    "ax.set_ylabel(r'$-\\sigma$ [$\\mu$C/cm$^2$]')\n",
    "# ax.set_ylabel(r'$f$')\n",
    "ax.set_xlabel('pH')\n",
    "\n",
    "ax.legend()"
   ]
  },
  {
   "attachments": {},
   "cell_type": "markdown",
   "metadata": {},
   "source": [
    "Azam: fraction deprotonated using SHG"
   ]
  },
  {
   "cell_type": "code",
   "execution_count": null,
   "metadata": {},
   "outputs": [],
   "source": [
    "import pandas as pd\n",
    "\n",
    "data1 = pd.read_table('insulator_data/azam2012-f/0.5M CsCl.csv', delimiter=';', decimal=',', header=None)\n",
    "data2 = pd.read_table('insulator_data/azam2012-f/0.5M KCl.csv', delimiter=';', decimal=',', header=None)\n",
    "data2b = pd.read_table('insulator_data/azam2012-f/0.5M NaCl.csv', delimiter=';', decimal=',', header=None)\n",
    "data3 = pd.read_table('insulator_data/azam2012-f/0.5M LiCl.csv', delimiter=';', decimal=',', header=None)\n",
    "\n",
    "fig, ax = plt.subplots(figsize=(5,4))\n",
    "\n",
    "ax.plot(data1[0], data1[1], '.', color='tab:blue', label=rf'CsCl', linewidth=1)\n",
    "ax.plot(data2[0], data2[1], '.', color='tab:red', label=rf'KCl', linewidth=1)\n",
    "ax.plot(data2b[0], data2b[1], '.', color='tab:green', label=rf'NaCl', linewidth=1)\n",
    "ax.plot(data3[0], data3[1], '.', color='black', label=rf'LiCl', linewidth=1)\n",
    "\n",
    "ax.plot(p_h, sweep1['charge'].values/sweep1['charge'].values[-1], color='tab:blue', label=rf'$\\gamma_+=${gammaK.gammas[2,0]:.0f}', linewidth=1)\n",
    "ax.plot(p_h, sweep2['charge'].values/sweep2['charge'].values[-1], color='tab:red', label=rf'$\\gamma_+=${gammaNa.gammas[2,0]:.0f}', linewidth=1)\n",
    "ax.plot(p_h, sweep3['charge'].values/sweep3['charge'].values[-1], color='black', label=rf'$\\gamma_+=${gammaLi.gammas[2,0]:.0f}', linewidth=1)\n",
    "\n",
    "ax.set_ylabel(r'$f$')\n",
    "ax.set_xlabel('pH')\n",
    "\n",
    "ax.legend()"
   ]
  },
  {
   "attachments": {},
   "cell_type": "markdown",
   "metadata": {},
   "source": [
    "Bousse: concentration dependence"
   ]
  },
  {
   "cell_type": "code",
   "execution_count": null,
   "metadata": {},
   "outputs": [],
   "source": [
    "conc100mM = edl.Aqueous(0.1, 8, 8, 8, 8)\n",
    "conc10mM = edl.Aqueous(0.01, 8, 8, 8, 8)\n",
    "\n",
    "sweep100mM = conc100mM.ph_sweep(p_h, tol=1e-2)\n",
    "sweep10mM = conc10mM.ph_sweep(p_h, tol=1e-2)\n",
    "\n",
    "fig, ax = plt.subplots(figsize=(5,4))\n",
    "\n",
    "data1 = pd.read_table('insulator_data/bousse1983-phi0/0.1M.csv', delimiter=';', decimal=',', header=None)\n",
    "data2 = pd.read_table('insulator_data/bousse1983-phi0/0.01M.csv', delimiter=';', decimal=',', header=None)\n",
    "\n",
    "ax.plot(p_h, -sweep100mM['phi0'] * 1e3, color='tab:blue', label=rf'{1e-1:.2f} M', linewidth=1)\n",
    "ax.plot(p_h, -sweep10mM['phi0'] * 1e3, color='tab:red', label=rf'{1e-2:.2f} M', linewidth=1)\n",
    "\n",
    "ax.plot(data1[1], data1[0], '.', color='tab:blue', label=rf'{1e-1:.2f} M', linewidth=1)\n",
    "ax.plot(data2[1], data2[0], '.', color='tab:red', label=rf'{1e-2} M', linewidth=1)\n",
    "\n",
    "ax.set_ylabel(r'$-\\phi_0$ [mV]')\n",
    "ax.set_xlabel('pH')\n",
    "ax.legend()\n",
    "plt.tight_layout()"
   ]
  },
  {
   "attachments": {},
   "cell_type": "markdown",
   "metadata": {},
   "source": [
    "Dove: cation size dependence"
   ]
  },
  {
   "cell_type": "code",
   "execution_count": null,
   "metadata": {},
   "outputs": [],
   "source": [
    "data1 = pd.read_table('insulator_data/dove2005-sigma0/0.20M KCl.csv', delimiter=';', decimal=',', header=None)\n",
    "data1b = pd.read_table('insulator_data/dove2005-sigma0/0.20M NaCl.csv', delimiter=';', decimal=',', header=None)\n",
    "data2 = pd.read_table('insulator_data/dove2005-sigma0/0.20M LiCl.csv', delimiter=';', decimal=',', header=None)\n",
    "\n",
    "fig, ax = plt.subplots(figsize=(5,4))\n",
    "\n",
    "ax.plot(p_h, -sweep1['charge'].values*1e2, color='tab:red', label=rf'$\\gamma_+=${gammaK.gammas[2,0]:.0f}', linewidth=1)\n",
    "ax.plot(p_h, -sweep2['charge'].values*1e2, color='tab:green', label=rf'$\\gamma_+=${gammaNa.gammas[2,0]:.0f}', linewidth=1)\n",
    "ax.plot(p_h, -sweep3['charge'].values*1e2, color='black', label=rf'$\\gamma_+=${gammaLi.gammas[2,0]:.0f}', linewidth=1)\n",
    "\n",
    "ax.plot(data1[1], -data1[0].to_numpy() * 1e2, '.', color='tab:red', label=rf'KCl', linewidth=1)\n",
    "ax.plot(data1b[1], -data1b[0].to_numpy() * 1e2, '.', color='tab:green', label=rf'NaCl', linewidth=1)\n",
    "ax.plot(data2[1], -data2[0].to_numpy() * 1e2, '.', color='black', label=rf'LiCl', linewidth=1)\n",
    "\n",
    "ax.set_ylabel(r'$-\\sigma$ [$\\mu$C/cm$^2$]')\n",
    "# ax.set_ylabel(r'$f$')\n",
    "ax.set_xlabel('pH')\n",
    "ax.legend()\n",
    "\n",
    "plt.tight_layout()"
   ]
  },
  {
   "cell_type": "code",
   "execution_count": null,
   "metadata": {},
   "outputs": [],
   "source": []
  }
 ],
 "metadata": {
  "kernelspec": {
   "display_name": "Python 3",
   "language": "python",
   "name": "python3"
  },
  "language_info": {
   "codemirror_mode": {
    "name": "ipython",
    "version": 3
   },
   "file_extension": ".py",
   "mimetype": "text/x-python",
   "name": "python",
   "nbconvert_exporter": "python",
   "pygments_lexer": "ipython3",
   "version": "3.11.2"
  },
  "orig_nbformat": 4,
  "vscode": {
   "interpreter": {
    "hash": "5238573367df39f7286bb46f9ff5f08f63a01a80960060ce41e3c79b190280fa"
   }
  }
 },
 "nbformat": 4,
 "nbformat_minor": 2
}
