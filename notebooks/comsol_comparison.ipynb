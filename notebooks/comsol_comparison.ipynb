{
 "cells": [
  {
   "cell_type": "code",
   "execution_count": null,
   "metadata": {},
   "outputs": [],
   "source": [
    "import matplotlib.pyplot as plt\n",
    "import numpy as np\n",
    "import edl\n",
    "import constants as C\n",
    "import plotting\n",
    "\n",
    "%matplotlib widget"
   ]
  },
  {
   "cell_type": "code",
   "execution_count": null,
   "metadata": {},
   "outputs": [],
   "source": [
    "import pandas as pd\n",
    "\n",
    "def symmetrize_txt_data(txt_name: str, name: str) -> pd.DataFrame:\n",
    "    data = np.loadtxt(txt_name, skiprows=5)\n",
    "    data_potentials = np.concatenate([data[::-1, 0], -data[1:, 0]])\n",
    "    chg0 = data[0, 1]\n",
    "    data_chg = np.concatenate([data[::-1, 1], -data[1:, 1]+2*chg0]) / 100 \n",
    "    data_cap = np.gradient(data_chg, data_potentials) \n",
    "    ret_df = pd.DataFrame({'phi0': data_potentials, 'charge': data_chg, 'capacity': data_cap})\n",
    "    ret_df.index.name = name\n",
    "    return ret_df\n",
    "\n",
    "gold_nano_sol = symmetrize_txt_data('comsol_data/70nm_gold_electrode_charge.txt', 'COMSOL 70nm metal/metal')\n",
    "true_nano_sol = symmetrize_txt_data('comsol_data/70nm_nano_electrode_charge.txt', 'COMSOL 70nm metal/silica')\n",
    "true_nano_sol['capacity'] *= 4"
   ]
  },
  {
   "cell_type": "code",
   "execution_count": null,
   "metadata": {},
   "outputs": [],
   "source": [
    "ph_lpb = edl.Aqueous(0.1, 6, 6, 6, 6)\n",
    "ph_lpb_nsol = ph_lpb.potential_sweep(potential=np.linspace(-1, 1, 200), p_h=11, tol=1e-4)\n",
    "ph_lpb_nsol.index.name = 'Python 1D gold'\n",
    "\n",
    "fig, ax = plotting.plot_potential_sweep([ph_lpb_nsol, true_nano_sol, gold_nano_sol])\n",
    "ax[1].set_ylim([0, 120])\n",
    "ax[1].set_ylabel(r'$C$ [$\\mu$F/cm$^2_\\mathrm{gold,geo}$]')\n",
    "plt.show()\n",
    "\n",
    "##!! note: d_m has not been taken into account in electrode geometry yet"
   ]
  },
  {
   "cell_type": "code",
   "execution_count": null,
   "metadata": {},
   "outputs": [],
   "source": []
  }
 ],
 "metadata": {
  "kernelspec": {
   "display_name": "Python 3",
   "language": "python",
   "name": "python3"
  },
  "language_info": {
   "codemirror_mode": {
    "name": "ipython",
    "version": 3
   },
   "file_extension": ".py",
   "mimetype": "text/x-python",
   "name": "python",
   "nbconvert_exporter": "python",
   "pygments_lexer": "ipython3",
   "version": "3.11.2"
  },
  "orig_nbformat": 4
 },
 "nbformat": 4,
 "nbformat_minor": 2
}
