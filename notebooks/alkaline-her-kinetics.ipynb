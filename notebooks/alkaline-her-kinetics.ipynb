{
 "cells": [
  {
   "cell_type": "code",
   "execution_count": null,
   "metadata": {},
   "outputs": [],
   "source": [
    "import numpy as np\n",
    "import constants as C\n",
    "import edl\n",
    "import kinetics as kin\n",
    "import plotting \n",
    "\n",
    "%matplotlib widget"
   ]
  },
  {
   "cell_type": "code",
   "execution_count": null,
   "metadata": {},
   "outputs": [],
   "source": [
    "default_gamma = 8\n",
    "default_ph = 11\n",
    "default_equilibrium_potential_vshe = -59e-3 * default_ph\n",
    "default_concentration_molar = 100e-3\n",
    "\n",
    "au_potential_range_vrhe = np.linspace(-0.8, -0.4, 100)\n",
    "pt_potential_range_vrhe = np.linspace(-0.15, 0.05, 100)\n"
   ]
  },
  {
   "cell_type": "code",
   "execution_count": null,
   "metadata": {},
   "outputs": [],
   "source": [
    "## Au -- Goyal/Koper concentration series\n",
    "cat_conc_range = [5e-3, 250e-3, 500e-3, 1000e-3] #np.logspace(-2.5, -1, 4) \n",
    "\n",
    "currents = []\n",
    "for i, c_cat in enumerate(cat_conc_range): \n",
    "    model = edl.Abrashkin(c_cat, default_gamma, default_gamma)\n",
    "    j = kin.frumkin_corrected_current(model, au_potential_range_vrhe + default_equilibrium_potential_vshe, C.AU_PZC_SHE_V, default_ph)\n",
    "    currents.append(j)\n",
    "currents = np.array(currents)\n",
    "currents /= np.max(np.abs(currents))\n",
    "\n",
    "fig, ax = plotting.plot_current(currents, au_potential_range_vrhe, cat_conc_range, parameter_symbol=r'[Cat]', parameter_scaling=1e3, parameter_unit='mM')"
   ]
  },
  {
   "cell_type": "code",
   "execution_count": null,
   "metadata": {},
   "outputs": [],
   "source": [
    "## Au -- Goyal/Koper concentration series\n",
    "cat_conc_range = [5e-3, 250e-3, 500e-3, 1000e-3] #np.logspace(-2.5, -1, 4) \n",
    "\n",
    "currents = []\n",
    "for i, c_cat in enumerate(cat_conc_range): \n",
    "    model = edl.Abrashkin(c_cat, default_gamma, default_gamma)\n",
    "    j = kin.frumkin_corrected_current(model, au_potential_range_vrhe + default_equilibrium_potential_vshe, C.AU_PZC_SHE_V, default_ph)\n",
    "    currents.append(j)\n",
    "currents = np.array(currents)\n",
    "currents /= np.max(np.abs(currents))\n"
   ]
  },
  {
   "cell_type": "code",
   "execution_count": null,
   "metadata": {},
   "outputs": [],
   "source": [
    "# Pt -- Bender ion size series\n",
    "gamma_range = [2, 6, 10, 14, 18]\n",
    "\n",
    "currents = []\n",
    "for i, gamma in enumerate(gamma_range): \n",
    "    model = edl.Abrashkin(default_concentration_molar, gamma, gamma)\n",
    "    j = kin.edl_transport_limited_current(model, pt_potential_range_vrhe + default_equilibrium_potential_vshe, C.PT_PZC_SHE_V, default_ph)\n",
    "    currents.append(j)\n",
    "currents = np.array(currents)\n",
    "currents /= np.max(np.abs(currents))\n",
    "\n",
    "fig, ax = plotting.plot_current(currents, pt_potential_range_vrhe, gamma_range, parameter_symbol=r'$\\gamma$')"
   ]
  },
  {
   "cell_type": "code",
   "execution_count": null,
   "metadata": {},
   "outputs": [],
   "source": [
    "# Au -- Bender ion size series\n",
    "gamma_range = [2, 6, 10, 14, 18]\n",
    "\n",
    "currents = []\n",
    "for i, gamma in enumerate(gamma_range): \n",
    "    model = edl.Abrashkin(default_concentration_molar, gamma, gamma)\n",
    "    j = kin.frumkin_corrected_current(model, au_potential_range_vrhe + default_equilibrium_potential_vshe, C.AU_PZC_SHE_V, default_ph)\n",
    "    currents.append(j)\n",
    "currents = np.array(currents)\n",
    "currents /= np.max(np.abs(currents))\n",
    "\n",
    "fig, ax = plotting.plot_current(currents, au_potential_range_vrhe, gamma_range, parameter_symbol=r'$\\gamma$')"
   ]
  },
  {
   "cell_type": "code",
   "execution_count": null,
   "metadata": {},
   "outputs": [],
   "source": [
    "# \"Au nanostructure\" -- Bender ion size series\n",
    "gamma_range = [2, 6, 10, 14, 18]\n",
    "\n",
    "currents = []\n",
    "for i, gamma in enumerate(gamma_range): \n",
    "    model = edl.Abrashkin(default_concentration_molar, gamma, gamma)\n",
    "    j = kin.edl_transport_limited_current(model, au_potential_range_vrhe + default_equilibrium_potential_vshe, C.AU_PZC_SHE_V, default_ph)\n",
    "    currents.append(j)\n",
    "currents = np.array(currents)\n",
    "currents /= np.max(np.abs(currents))\n",
    "\n",
    "fig, ax = plotting.plot_current(currents, au_potential_range_vrhe, gamma_range, parameter_symbol=r'$\\gamma$')"
   ]
  },
  {
   "cell_type": "code",
   "execution_count": null,
   "metadata": {},
   "outputs": [],
   "source": [
    "## Goyal&Koper -- pH series\n",
    "ph_range = [10, 11, 12, 13]\n",
    "potential_range_vrhe = np.linspace(-0.6, 0.0, 100)\n",
    "\n",
    "currents = []\n",
    "for i, ph in enumerate(ph_range): \n",
    "    model = edl.Abrashkin(default_concentration_molar, default_gamma, default_gamma)\n",
    "\n",
    "    equilibrium_potential_vshe = -59e-3 * ph\n",
    "        \n",
    "    j = kin.frumkin_corrected_current(model, equilibrium_potential_vshe + potential_range_vrhe, C.AU_PZC_SHE_V, ph)\n",
    "    currents.append(j)\n",
    "currents = np.array(currents)\n",
    "currents /= np.max(np.abs(currents))\n",
    "\n",
    "fig, ax = plotting.plot_current(currents, potential_range_vrhe, ph_range, parameter_symbol='pH')"
   ]
  }
 ],
 "metadata": {
  "kernelspec": {
   "display_name": "Python 3",
   "language": "python",
   "name": "python3"
  },
  "language_info": {
   "codemirror_mode": {
    "name": "ipython",
    "version": 3
   },
   "file_extension": ".py",
   "mimetype": "text/x-python",
   "name": "python",
   "nbconvert_exporter": "python",
   "pygments_lexer": "ipython3",
   "version": "3.11.2"
  },
  "orig_nbformat": 4
 },
 "nbformat": 4,
 "nbformat_minor": 2
}
