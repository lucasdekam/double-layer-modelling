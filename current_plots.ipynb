{
 "cells": [
  {
   "cell_type": "code",
   "execution_count": null,
   "metadata": {},
   "outputs": [],
   "source": [
    "\"\"\"\n",
    "Making figures for current simulation plots\n",
    "\"\"\"\n",
    "import numpy as np\n",
    "\n",
    "import complete_edl as edl\n",
    "import constants as C\n",
    "\n",
    "DEFAULT_GAMMA = 4\n",
    "DEFAULT_CONC = 1e-1  # 100 mM\n",
    "GAMMA_RANGE = [3, 4, 5, 6]\n",
    "CONC_RANGE = [10e-3, 100e-3, 1000e-3]\n",
    "\n",
    "C_1 = 6\n",
    "C_2 = 3\n",
    "\n",
    "\n",
    "def calculate_current(gold_sol, silanol_sol):\n",
    "    \"\"\"\n",
    "    Calculate the current from a Aqueous models solved for gold and insulator\n",
    "    \"\"\"\n",
    "    frac_sioh = (\n",
    "        C.N_SITES_SILICA\n",
    "        + silanol_sol[\"efield\"][0] * silanol_sol[\"eps\"][0] * C.EPS_0 / C.E_0\n",
    "    ) / C.N_SITES_SILICA\n",
    "    reorganization = C_1 * C.E_0 + np.abs(silanol_sol[\"pressure\"][0]) * C_2 / au.n_max\n",
    "    reaction_energy = C.E_0 * gold_sol[\"phi0\"]\n",
    "    e_act = (reorganization + reaction_energy) ** 2 / (4 * reorganization)\n",
    "    return -frac_sioh * np.exp(-C.BETA * e_act)\n",
    "\n",
    "\n",
    "PH_WERT_GAMM = 13\n",
    "potentials_v_rhe_gamm = np.linspace(-0.5, 0, 100)\n",
    "potentials_gamm = potentials_v_rhe_gamm - C.AU_PZC_SHE_V - 59e-3 * PH_WERT_GAMM\n",
    "current_gamm = np.zeros((len(GAMMA_RANGE), len(potentials_gamm)))\n",
    "\n",
    "for i, gamma in enumerate(GAMMA_RANGE):\n",
    "    au = edl.Aqueous(DEFAULT_CONC, gamma, DEFAULT_GAMMA, DEFAULT_GAMMA, C_2)\n",
    "    au_sol = au.potential_sweep(potentials_gamm, p_h=PH_WERT_GAMM)\n",
    "    silica = edl.Aqueous(DEFAULT_CONC, gamma, DEFAULT_GAMMA, DEFAULT_GAMMA, C_2)\n",
    "    silica_sol = silica.insulator_spatial_profiles(p_h=PH_WERT_GAMM, tol=1e-2)\n",
    "\n",
    "    current_gamm[i, :] = calculate_current(au_sol, silica_sol)\n",
    "current_gamm = current_gamm / np.max(np.abs(current_gamm))\n",
    "\n",
    "PH_WERT_CONC = 7\n",
    "potentials_v_rhe_conc = np.linspace(-0.25, 0, 100)\n",
    "potentials_conc = potentials_v_rhe_conc - C.AU_PZC_SHE_V - 59e-3 * PH_WERT_CONC\n",
    "current_conc = np.zeros((len(CONC_RANGE), len(potentials_conc)))\n",
    "\n",
    "for i, conc in enumerate(CONC_RANGE):\n",
    "    au = edl.Aqueous(conc, DEFAULT_GAMMA, DEFAULT_GAMMA, DEFAULT_GAMMA, C_2)\n",
    "    au_sol = au.potential_sweep(potentials_conc, p_h=PH_WERT_CONC)\n",
    "    silica = edl.Aqueous(conc, DEFAULT_GAMMA, DEFAULT_GAMMA, DEFAULT_GAMMA, C_2)\n",
    "    silica_sol = silica.insulator_spatial_profiles(p_h=PH_WERT_CONC, tol=1e-2)\n",
    "    current_conc[i, :] = calculate_current(au_sol, silica_sol)\n",
    "current_conc = current_conc / np.max(np.abs(current_conc))"
   ]
  },
  {
   "cell_type": "code",
   "execution_count": null,
   "metadata": {},
   "outputs": [],
   "source": [
    "import pandas as pd\n",
    "conc_df = pd.DataFrame(\n",
    "    data=current_conc.T,\n",
    "    index=potentials_v_rhe_conc,\n",
    "    columns=[f'conc = {conc*1e3:.0f} mM' for conc in CONC_RANGE]\n",
    ")\n",
    "conc_df.index.name='Potential vs. RHE at pH 7'\n",
    "conc_df.to_csv('current_conc.csv')\n"
   ]
  },
  {
   "cell_type": "code",
   "execution_count": null,
   "metadata": {},
   "outputs": [],
   "source": [
    "import pandas as pd\n",
    "gamm_df = pd.DataFrame(\n",
    "    data=current_gamm.T,\n",
    "    index=potentials_v_rhe_gamm,\n",
    "    columns=[f'gamma = {gamma}' for gamma in GAMMA_RANGE]\n",
    ")\n",
    "gamm_df.index.name='Potential vs. RHE at pH 13'\n",
    "gamm_df.to_csv('current_gamma.csv')\n"
   ]
  },
  {
   "cell_type": "code",
   "execution_count": null,
   "metadata": {},
   "outputs": [],
   "source": []
  }
 ],
 "metadata": {
  "kernelspec": {
   "display_name": "Python 3",
   "language": "python",
   "name": "python3"
  },
  "language_info": {
   "codemirror_mode": {
    "name": "ipython",
    "version": 3
   },
   "file_extension": ".py",
   "mimetype": "text/x-python",
   "name": "python",
   "nbconvert_exporter": "python",
   "pygments_lexer": "ipython3",
   "version": "3.9.6"
  }
 },
 "nbformat": 4,
 "nbformat_minor": 2
}
